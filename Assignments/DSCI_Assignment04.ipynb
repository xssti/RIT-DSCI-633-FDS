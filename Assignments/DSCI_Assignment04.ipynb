{
  "nbformat": 4,
  "nbformat_minor": 0,
  "metadata": {
    "colab": {
      "name": "DSCI_Assignment04.ipynb",
      "provenance": []
    },
    "kernelspec": {
      "name": "python3",
      "display_name": "Python 3"
    },
    "language_info": {
      "name": "python"
    }
  },
  "cells": [
    {
      "cell_type": "markdown",
      "metadata": {
        "id": "I3wOUMqIKEuF"
      },
      "source": [
        "Importing Usual Libraries"
      ]
    },
    {
      "cell_type": "code",
      "metadata": {
        "colab": {
          "base_uri": "https://localhost:8080/"
        },
        "id": "HLNX4iCqH4Cs",
        "outputId": "1bfb602f-876a-4d4c-984d-0986b00274a8"
      },
      "source": [
        "# Import data and modules\n",
        "import pandas as pd\n",
        "import numpy as np\n",
        "from sklearn import datasets\n",
        "%pylab inline\n",
        "pylab.rcParams['figure.figsize'] = (10, 6)"
      ],
      "execution_count": null,
      "outputs": [
        {
          "output_type": "stream",
          "name": "stdout",
          "text": [
            "Populating the interactive namespace from numpy and matplotlib\n"
          ]
        }
      ]
    },
    {
      "cell_type": "markdown",
      "metadata": {
        "id": "GOLRsqYLKMgE"
      },
      "source": [
        "Getting the data"
      ]
    },
    {
      "cell_type": "code",
      "metadata": {
        "id": "SD7czgqJIBH6"
      },
      "source": [
        "iris = datasets.load_iris()"
      ],
      "execution_count": null,
      "outputs": []
    },
    {
      "cell_type": "code",
      "metadata": {
        "id": "_CejEk0TICxq"
      },
      "source": [
        "X = iris.data[:, [2, 3]]\n",
        "y = iris.target"
      ],
      "execution_count": null,
      "outputs": []
    },
    {
      "cell_type": "code",
      "metadata": {
        "id": "TPuARpSqIFzL"
      },
      "source": [
        "iris_df = pd.DataFrame(iris.data[:, [2, 3]], columns=iris.feature_names[2:])"
      ],
      "execution_count": null,
      "outputs": []
    },
    {
      "cell_type": "code",
      "metadata": {
        "colab": {
          "base_uri": "https://localhost:8080/"
        },
        "id": "1dF_m757IJ1B",
        "outputId": "8501bb63-b34e-4a51-d45b-2e557941dc8d"
      },
      "source": [
        "print(iris_df.head())"
      ],
      "execution_count": null,
      "outputs": [
        {
          "output_type": "stream",
          "name": "stdout",
          "text": [
            "   petal length (cm)  petal width (cm)\n",
            "0                1.4               0.2\n",
            "1                1.4               0.2\n",
            "2                1.3               0.2\n",
            "3                1.5               0.2\n",
            "4                1.4               0.2\n"
          ]
        }
      ]
    },
    {
      "cell_type": "code",
      "metadata": {
        "id": "4xAtqRToIZIj"
      },
      "source": [
        "X_train, X_test, y_train, y_test = train_test_split(X, y, test_size=.3, random_state=0)"
      ],
      "execution_count": null,
      "outputs": []
    },
    {
      "cell_type": "code",
      "metadata": {
        "id": "tJI4CwrSIVOH"
      },
      "source": [
        "from sklearn.model_selection import train_test_split"
      ],
      "execution_count": null,
      "outputs": []
    },
    {
      "cell_type": "code",
      "metadata": {
        "colab": {
          "base_uri": "https://localhost:8080/"
        },
        "id": "Mgu7ZeEdIf1E",
        "outputId": "a1d6e3c1-28e7-4df6-ad49-be1174e4c0b6"
      },
      "source": [
        "print('There are {} samples in the training set and {} samples in the test set'.format(\n",
        "X_train.shape[0], X_test.shape[0]))\n",
        "print()"
      ],
      "execution_count": null,
      "outputs": [
        {
          "output_type": "stream",
          "name": "stdout",
          "text": [
            "There are 105 samples in the training set and 45 samples in the test set\n",
            "\n"
          ]
        }
      ]
    },
    {
      "cell_type": "code",
      "metadata": {
        "id": "1lPgylK9IiFH"
      },
      "source": [
        "from sklearn.preprocessing import StandardScaler"
      ],
      "execution_count": null,
      "outputs": []
    },
    {
      "cell_type": "code",
      "metadata": {
        "id": "def8fYS1Iqzx"
      },
      "source": [
        "sc = StandardScaler()"
      ],
      "execution_count": null,
      "outputs": []
    },
    {
      "cell_type": "code",
      "metadata": {
        "colab": {
          "base_uri": "https://localhost:8080/"
        },
        "id": "Dy9UJpTVIs0s",
        "outputId": "9be2e4fb-2f63-4782-a9e1-ff9818f7da2e"
      },
      "source": [
        "sc.fit(X_train)"
      ],
      "execution_count": null,
      "outputs": [
        {
          "output_type": "execute_result",
          "data": {
            "text/plain": [
              "StandardScaler(copy=True, with_mean=True, with_std=True)"
            ]
          },
          "metadata": {},
          "execution_count": 26
        }
      ]
    },
    {
      "cell_type": "code",
      "metadata": {
        "colab": {
          "base_uri": "https://localhost:8080/"
        },
        "id": "dzbrXm_EIwRQ",
        "outputId": "33f29c62-1076-47de-b2d0-2c1207f9e0d7"
      },
      "source": [
        "X_train_std = sc.transform(X_train)\n",
        "X_test_std = sc.transform(X_test)\n",
        "print('After standardizing our features, the first 5 rows of our data now look like this:\\n')\n",
        "print(pd.DataFrame(X_train_std, columns=iris_df.columns).head())"
      ],
      "execution_count": null,
      "outputs": [
        {
          "output_type": "stream",
          "name": "stdout",
          "text": [
            "After standardizing our features, the first 5 rows of our data now look like this:\n",
            "\n",
            "   petal length (cm)  petal width (cm)\n",
            "0          -0.182950         -0.293181\n",
            "1           0.930661          0.737246\n",
            "2           1.042022          1.638870\n",
            "3           0.652258          0.350836\n",
            "4           1.097702          0.737246\n"
          ]
        }
      ]
    },
    {
      "cell_type": "code",
      "metadata": {
        "colab": {
          "base_uri": "https://localhost:8080/",
          "height": 445
        },
        "id": "rZ-0zP6_Izcp",
        "outputId": "f76085c1-fa10-4c8e-94bd-3f1d4cd71bc7"
      },
      "source": [
        "from matplotlib.colors import ListedColormap\n",
        "import matplotlib.pyplot as plt\n",
        "\n",
        "markers = ('s', 'x', 'o')\n",
        "colors = ('red', 'blue', 'orange')\n",
        "cmap = ListedColormap(colors[:len(np.unique(y_test))])\n",
        "for idx, cl in enumerate(np.unique(y)):\n",
        "    plt.scatter(x=X[y == cl, 0], y=X[y == cl, 1],\n",
        "               c=cmap(idx), marker=markers[idx], label=cl)"
      ],
      "execution_count": null,
      "outputs": [
        {
          "output_type": "stream",
          "name": "stderr",
          "text": [
            "*c* argument looks like a single numeric RGB or RGBA sequence, which should be avoided as value-mapping will have precedence in case its length matches with *x* & *y*.  Please use the *color* keyword-argument or provide a 2-D array with a single row if you intend to specify the same RGB or RGBA value for all points.\n",
            "*c* argument looks like a single numeric RGB or RGBA sequence, which should be avoided as value-mapping will have precedence in case its length matches with *x* & *y*.  Please use the *color* keyword-argument or provide a 2-D array with a single row if you intend to specify the same RGB or RGBA value for all points.\n",
            "*c* argument looks like a single numeric RGB or RGBA sequence, which should be avoided as value-mapping will have precedence in case its length matches with *x* & *y*.  Please use the *color* keyword-argument or provide a 2-D array with a single row if you intend to specify the same RGB or RGBA value for all points.\n"
          ]
        },
        {
          "output_type": "display_data",
          "data": {
            "image/png": "[encoded data removed]",
            "text/plain": [
              "<Figure size 720x432 with 1 Axes>"
            ]
          },
          "metadata": {
            "needs_background": "light"
          }
        }
      ]
    },
    {
      "cell_type": "code",
      "metadata": {
        "colab": {
          "base_uri": "https://localhost:8080/"
        },
        "id": "dPxZdNA7JFco",
        "outputId": "bc124e63-ae8e-4f26-b69c-83b5d9ede7c2"
      },
      "source": [
        "from sklearn.svm import SVC\n",
        "\n",
        "svm = SVC(kernel='rbf', random_state=0, gamma=.10, C=1.0)\n",
        "svm.fit(X_train_std, y_train)\n",
        "\n",
        "print('The accuracy of the svm classifier on training data is {:.2f} out of 1'.format(svm.score(X_train_std, y_train)))\n",
        "\n",
        "print('The accuracy of the svm classifier on test data is {:.2f} out of 1'.format(svm.score(X_test_std, y_test)))"
      ],
      "execution_count": null,
      "outputs": [
        {
          "output_type": "stream",
          "name": "stdout",
          "text": [
            "The accuracy of the svm classifier on training data is 0.95 out of 1\n",
            "The accuracy of the svm classifier on test data is 0.98 out of 1\n"
          ]
        }
      ]
    },
    {
      "cell_type": "code",
      "metadata": {
        "colab": {
          "base_uri": "https://localhost:8080/"
        },
        "id": "MW-Z7xDwJMsW",
        "outputId": "4f9a47c6-62ff-4b8e-a571-51f181352ae5"
      },
      "source": [
        "from sklearn.neighbors import KNeighborsClassifier\n",
        "\n",
        "knn = KNeighborsClassifier(n_neighbors=9, p=2, metric='minkowski')\n",
        "knn.fit(X_train_std, y_train)\n",
        "\n",
        "print('The accuracy of the knn classifier is {:.2f} out of 1 on training data'.format(knn.score(X_train_std, y_train)))\n",
        "print('The accuracy of the knn classifier is {:.2f} out of 1 on test data'.format(knn.score(X_test_std, y_test)))"
      ],
      "execution_count": null,
      "outputs": [
        {
          "output_type": "stream",
          "name": "stdout",
          "text": [
            "The accuracy of the knn classifier is 0.95 out of 1 on training data\n",
            "The accuracy of the knn classifier is 0.98 out of 1 on test data\n"
          ]
        }
      ]
    },
    {
      "cell_type": "markdown",
      "metadata": {
        "id": "Gv00G2UnIfez"
      },
      "source": [
        ""
      ]
    }
  ]
}